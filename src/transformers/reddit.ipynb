{
 "cells": [
  {
   "cell_type": "code",
   "execution_count": 4,
   "id": "0497bf9e-309a-4b54-b5c3-ab000ff3b222",
   "metadata": {},
   "outputs": [],
   "source": [
    "import zstandard as zstd\n",
    "import json\n",
    "import io"
   ]
  },
  {
   "cell_type": "code",
   "execution_count": 2,
   "id": "67af8b6a-772d-49f5-8510-cb0cb76ff9b6",
   "metadata": {},
   "outputs": [],
   "source": [
    "# extract smples"
   ]
  },
  {
   "cell_type": "code",
   "execution_count": 11,
   "id": "77e8f54e-bf76-41ea-bf1e-23b40401d806",
   "metadata": {
    "scrolled": true
   },
   "outputs": [
    {
     "name": "stdout",
     "output_type": "stream",
     "text": [
      "Success! Samples saved to JSON files 20k Yeah.\n"
     ]
    }
   ],
   "source": [
    "def extract_samples(file_path, num_samples=20):\n",
    "    samples = []\n",
    "    with open(file_path, 'rb') as fh:\n",
    "        dctx = zstd.ZstdDecompressor()\n",
    "        # Create a streaming reader\n",
    "        stream_reader = dctx.stream_reader(fh)\n",
    "        # Wrap in a TextIOWrapper to read lines incrementally\n",
    "        text_stream = io.TextIOWrapper(stream_reader, encoding='utf-8')\n",
    "        \n",
    "        for i, line in enumerate(text_stream):\n",
    "            if i >= num_samples:\n",
    "                break\n",
    "            if line.strip():  # Skip empty lines\n",
    "                try:\n",
    "                    samples.append(json.loads(line))\n",
    "                except json.JSONDecodeError:\n",
    "                    print(f\"Error decoding JSON on line {i}\")\n",
    "    return samples\n",
    "\n",
    "# Use raw strings for Windows paths\n",
    "submission_file = r\"C:\\Users\\Administrator\\Desktop\\RS_2019-04.zst\" # submission data\n",
    "comment_file = r\"C:\\Users\\Administrator\\Desktop\\RC_2019-04.zst\" # comment data\n",
    "\n",
    "# Extract samples (20k)\n",
    "submission_samples = extract_samples(submission_file, 20000)\n",
    "comment_samples = extract_samples(comment_file, 20000)\n",
    "\n",
    "# Save to files\n",
    "save_submission_samples = r\"C:\\Users\\Administrator\\Desktop\\deep_alignment\\submission_samples_20k.json\"\n",
    "save_comment_samples = r\"C:\\Users\\Administrator\\Desktop\\deep_alignment\\comment_samples_20k.json\"\n",
    "with open(save_submission_samples, \"w\") as f:\n",
    "    json.dump(submission_samples, f, indent=2)\n",
    "\n",
    "with open(save_comment_samples, \"w\") as f:\n",
    "    json.dump(comment_samples, f, indent=2)\n",
    "\n",
    "# print(\"Success! Samples saved to JSON files 20k Yeah.\")"
   ]
  },
  {
   "cell_type": "code",
   "execution_count": 1,
   "id": "a69eef3e-7ecf-472f-801b-d17c43bea591",
   "metadata": {},
   "outputs": [],
   "source": [
    "# convert extracted comments to the unified schema"
   ]
  },
  {
   "cell_type": "code",
   "execution_count": 12,
   "id": "b9295c76-7a78-4af5-b938-65a8f0cea599",
   "metadata": {},
   "outputs": [
    {
     "name": "stdout",
     "output_type": "stream",
     "text": [
      "Transformed 1000 comments successfully 20k !\n"
     ]
    }
   ],
   "source": [
    "def safe_get(data, key, default=None):\n",
    "    value = data.get(key, default)\n",
    "    return value if value is not None else default\n",
    "    \n",
    "def transform_comment(comment):\n",
    "    return {\n",
    "        \"user_id\": \"usr_\" + safe_get(comment, \"author_fullname\", \"empty_body\"),\n",
    "        \"chunk_id\": safe_get(comment, \"permalink\", \"conv_unknown\"),\n",
    "        \"platform\": \"reddit\",\n",
    "        \"content\": [\n",
    "            {\n",
    "                \"speaker\": \"SELF\",\n",
    "                \"text\": safe_get(comment, \"body\", \"empty_content\")\n",
    "            }\n",
    "        ],\n",
    "        \"timestamp\": safe_get(comment, \"created_utc\", \"unknown_timestamp\")\n",
    "    }\n",
    "\n",
    "# Load the saved comment samples\n",
    "with open(save_comment_samples, \"r\") as f:\n",
    "    comment_samples = json.load(f)\n",
    "\n",
    "# Transform all comments\n",
    "transformed_comments = [transform_comment(comment) for comment in comment_samples]\n",
    "\n",
    "# Save transformed data\n",
    "save_transformed_samples = r\"C:\\Users\\Administrator\\Desktop\\deep_alignment\\transformed_comments_20k.json\"\n",
    "with open(save_transformed_samples, \"w\") as f:\n",
    "    json.dump(transformed_comments, f, indent=2)\n",
    "\n",
    "# print(f\"Transformed {len(transformed_comments)} comments successfully\")"
   ]
  },
  {
   "cell_type": "code",
   "execution_count": null,
   "id": "b3e1b908-5a1f-4cc1-816e-d7f955e7b844",
   "metadata": {},
   "outputs": [],
   "source": []
  }
 ],
 "metadata": {
  "kernelspec": {
   "display_name": "Python 3 (ipykernel)",
   "language": "python",
   "name": "python3"
  },
  "language_info": {
   "codemirror_mode": {
    "name": "ipython",
    "version": 3
   },
   "file_extension": ".py",
   "mimetype": "text/x-python",
   "name": "python",
   "nbconvert_exporter": "python",
   "pygments_lexer": "ipython3",
   "version": "3.9.12"
  }
 },
 "nbformat": 4,
 "nbformat_minor": 5
}
